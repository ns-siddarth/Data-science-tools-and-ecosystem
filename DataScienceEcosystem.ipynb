{
 "cells": [
  {
   "cell_type": "markdown",
   "id": "f491332e-97fd-45d5-80a3-c9738729d029",
   "metadata": {},
   "source": [
    "# Data Science Tool and Ecosystem"
   ]
  },
  {
   "cell_type": "markdown",
   "id": "832a55a5-f01e-46ae-8aee-b4392bf3883b",
   "metadata": {},
   "source": [
    "In this notebook, Data Science Tools and Ecosystem are summarized."
   ]
  },
  {
   "cell_type": "markdown",
   "id": "c249862b-1544-43dc-8559-e01787be29a0",
   "metadata": {},
   "source": [
    "Some of the popular languages that Data Scientists use are:\n",
    "<ol>\n",
    "    <li>Python</li>\n",
    "    <li>Java</li>\n",
    "    <li>R</li>\n",
    "    <li>C++</li>\n",
    "    <li>SQL</li>\n",
    "</ol>"
   ]
  },
  {
   "attachments": {},
   "cell_type": "markdown",
   "id": "ba4b9815-b8cb-4323-b60e-ed866d681cb2",
   "metadata": {},
   "source": [
    "Some of the commonly used libraries used by Data Scientists include:\n",
    "<ol>\n",
    "    <li>NumPy</li>\n",
    "    <li>Pandas</li>\n",
    "    <li>Keras</li>\n",
    "    <li>Pytorch</li>\n",
    "    <li>Scikit learn</li>\n",
    "    <li>matplotlib</li>\n",
    "</ol>"
   ]
  },
  {
   "cell_type": "markdown",
   "id": "230a778b-75d5-4f15-b923-7ea192b0b068",
   "metadata": {},
   "source": [
    "|Data Science Tools|\n",
    "|---|\n",
    "|Jupyter Notebook|\n",
    "|RStudio|\n",
    "|Spyder|"
   ]
  },
  {
   "cell_type": "markdown",
   "id": "bc90b8ba-efbc-4993-b32b-1b84cecceec7",
   "metadata": {},
   "source": [
    "### Below are a few examples of evaluating arithmetic expressions in Python"
   ]
  },
  {
   "cell_type": "code",
   "execution_count": 1,
   "id": "2835fef0-832a-4bf9-b726-7c2b2c1d8976",
   "metadata": {},
   "outputs": [
    {
     "data": {
      "text/plain": [
       "17"
      ]
     },
     "execution_count": 1,
     "metadata": {},
     "output_type": "execute_result"
    }
   ],
   "source": [
    "#This a simple arithmetic expression to mutiply then add integers\n",
    "(3*4)+5"
   ]
  },
  {
   "cell_type": "code",
   "execution_count": 2,
   "id": "8fe3aa44-bbf1-4a08-a6e8-4e6d734b1a59",
   "metadata": {},
   "outputs": [
    {
     "data": {
      "text/plain": [
       "3.3333333333333335"
      ]
     },
     "execution_count": 2,
     "metadata": {},
     "output_type": "execute_result"
    }
   ],
   "source": [
    "#This will convert 200 minutes to hours by diving by 60\n",
    "200/60"
   ]
  },
  {
   "cell_type": "markdown",
   "id": "5f293dda-a8e1-427a-b321-128bb4b77508",
   "metadata": {},
   "source": [
    "**Objectives**\n",
    "<ul>\n",
    "    <li>List popular languages for Data Science</li>\n",
    "    <li>List popular libraries for data science</li>\n",
    "    <li>List most popular data science tools</li>\n",
    "    <li>Uses of Comments</li>\n",
    "</ul>"
   ]
  },
  {
   "cell_type": "markdown",
   "id": "67efa590-9201-43dd-962e-85b39bd3f6c5",
   "metadata": {},
   "source": [
    "## Author"
   ]
  },
  {
   "cell_type": "markdown",
   "id": "02dfd3d0-c1c5-4ad5-b1f7-876ba3be152b",
   "metadata": {},
   "source": [
    "N S SIDDARTH"
   ]
  }
 ],
 "metadata": {
  "kernelspec": {
   "display_name": "Python 3 (ipykernel)",
   "language": "python",
   "name": "python3"
  },
  "language_info": {
   "codemirror_mode": {
    "name": "ipython",
    "version": 3
   },
   "file_extension": ".py",
   "mimetype": "text/x-python",
   "name": "python",
   "nbconvert_exporter": "python",
   "pygments_lexer": "ipython3",
   "version": "3.12.7"
  }
 },
 "nbformat": 4,
 "nbformat_minor": 5
}
